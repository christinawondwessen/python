{
  "nbformat": 4,
  "nbformat_minor": 0,
  "metadata": {
    "kernelspec": {
      "display_name": "Python 3",
      "language": "python",
      "name": "python3"
    },
    "language_info": {
      "codemirror_mode": {
        "name": "ipython",
        "version": 3
      },
      "file_extension": ".py",
      "mimetype": "text/x-python",
      "name": "python",
      "nbconvert_exporter": "python",
      "pygments_lexer": "ipython3",
      "version": "3.7.4"
    },
    "colab": {
      "name": "project136",
      "provenance": [],
      "collapsed_sections": [],
      "include_colab_link": true
    }
  },
  "cells": [
    {
      "cell_type": "markdown",
      "metadata": {
        "id": "view-in-github",
        "colab_type": "text"
      },
      "source": [
        "<a href=\"https://colab.research.google.com/github/christinawondwessen/python/blob/main/project136.ipynb\" target=\"_parent\"><img src=\"https://colab.research.google.com/assets/colab-badge.svg\" alt=\"Open In Colab\"/></a>"
      ]
    },
    {
      "cell_type": "code",
      "metadata": {
        "id": "SLMRBr6QCd5O"
      },
      "source": [
        "import pandas as pd\n"
      ],
      "execution_count": null,
      "outputs": []
    },
    {
      "cell_type": "code",
      "metadata": {
        "id": "c1DMeRRECd5T"
      },
      "source": [
        "df = pd.read_csv('mainA.csv')"
      ],
      "execution_count": null,
      "outputs": []
    },
    {
      "cell_type": "code",
      "metadata": {
        "id": "zRj_h2amCd5W",
        "outputId": "ccaa2599-438c-4d61-90ba-bc91c58d6f46"
      },
      "source": [
        "df.head()"
      ],
      "execution_count": null,
      "outputs": [
        {
          "output_type": "execute_result",
          "data": {
            "text/html": [
              "<div>\n",
              "<style scoped>\n",
              "    .dataframe tbody tr th:only-of-type {\n",
              "        vertical-align: middle;\n",
              "    }\n",
              "\n",
              "    .dataframe tbody tr th {\n",
              "        vertical-align: top;\n",
              "    }\n",
              "\n",
              "    .dataframe thead th {\n",
              "        text-align: right;\n",
              "    }\n",
              "</style>\n",
              "<table border=\"1\" class=\"dataframe\">\n",
              "  <thead>\n",
              "    <tr style=\"text-align: right;\">\n",
              "      <th></th>\n",
              "      <th>Unnamed: 0</th>\n",
              "      <th>Star_name</th>\n",
              "      <th>Distance</th>\n",
              "      <th>Mass</th>\n",
              "      <th>Radius</th>\n",
              "    </tr>\n",
              "  </thead>\n",
              "  <tbody>\n",
              "    <tr>\n",
              "      <td>0</td>\n",
              "      <td>0</td>\n",
              "      <td>Sun</td>\n",
              "      <td>0.000015813</td>\n",
              "      <td>1.0</td>\n",
              "      <td>1</td>\n",
              "    </tr>\n",
              "    <tr>\n",
              "      <td>1</td>\n",
              "      <td>1</td>\n",
              "      <td>Sirius</td>\n",
              "      <td>8.6</td>\n",
              "      <td>2.1</td>\n",
              "      <td>1.71</td>\n",
              "    </tr>\n",
              "    <tr>\n",
              "      <td>2</td>\n",
              "      <td>2</td>\n",
              "      <td>Canopus</td>\n",
              "      <td>310</td>\n",
              "      <td>15.0</td>\n",
              "      <td>71</td>\n",
              "    </tr>\n",
              "    <tr>\n",
              "      <td>3</td>\n",
              "      <td>3</td>\n",
              "      <td>Alpha Centauri</td>\n",
              "      <td>4.4</td>\n",
              "      <td>1.1</td>\n",
              "      <td>1.2</td>\n",
              "    </tr>\n",
              "    <tr>\n",
              "      <td>4</td>\n",
              "      <td>4</td>\n",
              "      <td>Arcturus</td>\n",
              "      <td>37</td>\n",
              "      <td>1.1</td>\n",
              "      <td>26</td>\n",
              "    </tr>\n",
              "  </tbody>\n",
              "</table>\n",
              "</div>"
            ],
            "text/plain": [
              "   Unnamed: 0       Star_name     Distance  Mass Radius\n",
              "0           0             Sun  0.000015813   1.0      1\n",
              "1           1          Sirius          8.6   2.1   1.71\n",
              "2           2         Canopus          310  15.0     71\n",
              "3           3  Alpha Centauri          4.4   1.1    1.2\n",
              "4           4        Arcturus           37   1.1     26"
            ]
          },
          "metadata": {
            "tags": []
          },
          "execution_count": 3
        }
      ]
    },
    {
      "cell_type": "code",
      "metadata": {
        "id": "540a20LlCd5a",
        "outputId": "6cef8bba-e2b8-467b-c173-168931b63ad0",
        "colab": {
          "base_uri": "https://localhost:8080/"
        }
      },
      "source": [
        "df.columns"
      ],
      "execution_count": null,
      "outputs": [
        {
          "output_type": "execute_result",
          "data": {
            "text/plain": [
              "Index(['Unnamed: 0', 'name', 'light_years_from_earth', 'planet_mass',\n",
              "       'stellar_magnitude', 'discovery_date', 'planet_type', 'planet_radius',\n",
              "       'orbital_radius', 'orbital_period', 'eccentricity', 'solar_system_name',\n",
              "       'planet_discovery_method', 'planet_orbital_inclination',\n",
              "       'planet_density', 'right_ascension', 'declination', 'host_temperature',\n",
              "       'host_mass', 'host_radius'],\n",
              "      dtype='object')"
            ]
          },
          "metadata": {},
          "execution_count": 4
        }
      ]
    },
    {
      "cell_type": "code",
      "metadata": {
        "id": "YIHFVr6GCd5e"
      },
      "source": [
        "df.drop(['Unnamed: 0'],axis=1,inplace=True)"
      ],
      "execution_count": null,
      "outputs": []
    },
    {
      "cell_type": "code",
      "metadata": {
        "id": "mXQatOVXCd5j",
        "outputId": "e8fab0a6-4487-4eba-9ac2-bfbd7a838a34",
        "colab": {
          "base_uri": "https://localhost:8080/",
          "height": 357
        }
      },
      "source": [
        "df.head()"
      ],
      "execution_count": null,
      "outputs": [
        {
          "output_type": "execute_result",
          "data": {
            "text/plain": [
              "                   name  light_years_from_earth     planet_mass  \\\n",
              "0  11 Comae Berenices b                   305.0   19.4 Jupiters   \n",
              "1    11 Ursae Minoris b                   410.0  14.74 Jupiters   \n",
              "2       14 Andromedae b                   247.0    4.8 Jupiters   \n",
              "3         14 Herculis b                    59.0   4.66 Jupiters   \n",
              "4          16 Cygni B b                    69.0   1.78 Jupiters   \n",
              "\n",
              "   stellar_magnitude  discovery_date planet_type   planet_radius  \\\n",
              "0              4.740            2007   Gas Giant  1.08 x Jupiter   \n",
              "1              5.016            2009   Gas Giant  1.09 x Jupiter   \n",
              "2              5.227            2008   Gas Giant  1.15 x Jupiter   \n",
              "3              6.610            2002   Gas Giant  1.15 x Jupiter   \n",
              "4              6.250            1996   Gas Giant   1.2 x Jupiter   \n",
              "\n",
              "  orbital_radius orbital_period eccentricity solar_system_name  \\\n",
              "0        1.29 AU       326 days         0.23            11 Com   \n",
              "1        1.53 AU      1.4 years         0.08            11 UMi   \n",
              "2        0.83 AU     185.8 days          0.0            14 And   \n",
              "3        2.93 AU      4.9 years         0.37            14 Her   \n",
              "4        1.66 AU      2.2 years         0.68          16 Cyg B   \n",
              "\n",
              "  planet_discovery_method  planet_orbital_inclination  planet_density  \\\n",
              "0         Radial Velocity                         NaN             NaN   \n",
              "1         Radial Velocity                         NaN             NaN   \n",
              "2         Radial Velocity                         NaN             NaN   \n",
              "3         Radial Velocity                         NaN             NaN   \n",
              "4         Radial Velocity                         NaN             NaN   \n",
              "\n",
              "  right_ascension   declination  host_temperature  host_mass  host_radius  \n",
              "0    12h20m43.03s  +17d47m34.3s            4742.0       2.70        19.00  \n",
              "1    15h17m05.89s  +71d49m26.0s            4213.0       2.78        29.79  \n",
              "2    23h31m17.42s  +39d14m10.3s            4813.0       2.20        11.00  \n",
              "3    16h10m24.31s  +43d49m03.5s            5338.0       0.90         0.93  \n",
              "4    19h41m51.97s  +50d31m03.1s            5750.0       1.08         1.13  "
            ],
            "text/html": [
              "\n",
              "  <div id=\"df-71a986bb-6079-4a8c-bd3a-bd43dc7e0307\">\n",
              "    <div class=\"colab-df-container\">\n",
              "      <div>\n",
              "<style scoped>\n",
              "    .dataframe tbody tr th:only-of-type {\n",
              "        vertical-align: middle;\n",
              "    }\n",
              "\n",
              "    .dataframe tbody tr th {\n",
              "        vertical-align: top;\n",
              "    }\n",
              "\n",
              "    .dataframe thead th {\n",
              "        text-align: right;\n",
              "    }\n",
              "</style>\n",
              "<table border=\"1\" class=\"dataframe\">\n",
              "  <thead>\n",
              "    <tr style=\"text-align: right;\">\n",
              "      <th></th>\n",
              "      <th>name</th>\n",
              "      <th>light_years_from_earth</th>\n",
              "      <th>planet_mass</th>\n",
              "      <th>stellar_magnitude</th>\n",
              "      <th>discovery_date</th>\n",
              "      <th>planet_type</th>\n",
              "      <th>planet_radius</th>\n",
              "      <th>orbital_radius</th>\n",
              "      <th>orbital_period</th>\n",
              "      <th>eccentricity</th>\n",
              "      <th>solar_system_name</th>\n",
              "      <th>planet_discovery_method</th>\n",
              "      <th>planet_orbital_inclination</th>\n",
              "      <th>planet_density</th>\n",
              "      <th>right_ascension</th>\n",
              "      <th>declination</th>\n",
              "      <th>host_temperature</th>\n",
              "      <th>host_mass</th>\n",
              "      <th>host_radius</th>\n",
              "    </tr>\n",
              "  </thead>\n",
              "  <tbody>\n",
              "    <tr>\n",
              "      <th>0</th>\n",
              "      <td>11 Comae Berenices b</td>\n",
              "      <td>305.0</td>\n",
              "      <td>19.4 Jupiters</td>\n",
              "      <td>4.740</td>\n",
              "      <td>2007</td>\n",
              "      <td>Gas Giant</td>\n",
              "      <td>1.08 x Jupiter</td>\n",
              "      <td>1.29 AU</td>\n",
              "      <td>326 days</td>\n",
              "      <td>0.23</td>\n",
              "      <td>11 Com</td>\n",
              "      <td>Radial Velocity</td>\n",
              "      <td>NaN</td>\n",
              "      <td>NaN</td>\n",
              "      <td>12h20m43.03s</td>\n",
              "      <td>+17d47m34.3s</td>\n",
              "      <td>4742.0</td>\n",
              "      <td>2.70</td>\n",
              "      <td>19.00</td>\n",
              "    </tr>\n",
              "    <tr>\n",
              "      <th>1</th>\n",
              "      <td>11 Ursae Minoris b</td>\n",
              "      <td>410.0</td>\n",
              "      <td>14.74 Jupiters</td>\n",
              "      <td>5.016</td>\n",
              "      <td>2009</td>\n",
              "      <td>Gas Giant</td>\n",
              "      <td>1.09 x Jupiter</td>\n",
              "      <td>1.53 AU</td>\n",
              "      <td>1.4 years</td>\n",
              "      <td>0.08</td>\n",
              "      <td>11 UMi</td>\n",
              "      <td>Radial Velocity</td>\n",
              "      <td>NaN</td>\n",
              "      <td>NaN</td>\n",
              "      <td>15h17m05.89s</td>\n",
              "      <td>+71d49m26.0s</td>\n",
              "      <td>4213.0</td>\n",
              "      <td>2.78</td>\n",
              "      <td>29.79</td>\n",
              "    </tr>\n",
              "    <tr>\n",
              "      <th>2</th>\n",
              "      <td>14 Andromedae b</td>\n",
              "      <td>247.0</td>\n",
              "      <td>4.8 Jupiters</td>\n",
              "      <td>5.227</td>\n",
              "      <td>2008</td>\n",
              "      <td>Gas Giant</td>\n",
              "      <td>1.15 x Jupiter</td>\n",
              "      <td>0.83 AU</td>\n",
              "      <td>185.8 days</td>\n",
              "      <td>0.0</td>\n",
              "      <td>14 And</td>\n",
              "      <td>Radial Velocity</td>\n",
              "      <td>NaN</td>\n",
              "      <td>NaN</td>\n",
              "      <td>23h31m17.42s</td>\n",
              "      <td>+39d14m10.3s</td>\n",
              "      <td>4813.0</td>\n",
              "      <td>2.20</td>\n",
              "      <td>11.00</td>\n",
              "    </tr>\n",
              "    <tr>\n",
              "      <th>3</th>\n",
              "      <td>14 Herculis b</td>\n",
              "      <td>59.0</td>\n",
              "      <td>4.66 Jupiters</td>\n",
              "      <td>6.610</td>\n",
              "      <td>2002</td>\n",
              "      <td>Gas Giant</td>\n",
              "      <td>1.15 x Jupiter</td>\n",
              "      <td>2.93 AU</td>\n",
              "      <td>4.9 years</td>\n",
              "      <td>0.37</td>\n",
              "      <td>14 Her</td>\n",
              "      <td>Radial Velocity</td>\n",
              "      <td>NaN</td>\n",
              "      <td>NaN</td>\n",
              "      <td>16h10m24.31s</td>\n",
              "      <td>+43d49m03.5s</td>\n",
              "      <td>5338.0</td>\n",
              "      <td>0.90</td>\n",
              "      <td>0.93</td>\n",
              "    </tr>\n",
              "    <tr>\n",
              "      <th>4</th>\n",
              "      <td>16 Cygni B b</td>\n",
              "      <td>69.0</td>\n",
              "      <td>1.78 Jupiters</td>\n",
              "      <td>6.250</td>\n",
              "      <td>1996</td>\n",
              "      <td>Gas Giant</td>\n",
              "      <td>1.2 x Jupiter</td>\n",
              "      <td>1.66 AU</td>\n",
              "      <td>2.2 years</td>\n",
              "      <td>0.68</td>\n",
              "      <td>16 Cyg B</td>\n",
              "      <td>Radial Velocity</td>\n",
              "      <td>NaN</td>\n",
              "      <td>NaN</td>\n",
              "      <td>19h41m51.97s</td>\n",
              "      <td>+50d31m03.1s</td>\n",
              "      <td>5750.0</td>\n",
              "      <td>1.08</td>\n",
              "      <td>1.13</td>\n",
              "    </tr>\n",
              "  </tbody>\n",
              "</table>\n",
              "</div>\n",
              "      <button class=\"colab-df-convert\" onclick=\"convertToInteractive('df-71a986bb-6079-4a8c-bd3a-bd43dc7e0307')\"\n",
              "              title=\"Convert this dataframe to an interactive table.\"\n",
              "              style=\"display:none;\">\n",
              "        \n",
              "  <svg xmlns=\"http://www.w3.org/2000/svg\" height=\"24px\"viewBox=\"0 0 24 24\"\n",
              "       width=\"24px\">\n",
              "    <path d=\"M0 0h24v24H0V0z\" fill=\"none\"/>\n",
              "    <path d=\"M18.56 5.44l.94 2.06.94-2.06 2.06-.94-2.06-.94-.94-2.06-.94 2.06-2.06.94zm-11 1L8.5 8.5l.94-2.06 2.06-.94-2.06-.94L8.5 2.5l-.94 2.06-2.06.94zm10 10l.94 2.06.94-2.06 2.06-.94-2.06-.94-.94-2.06-.94 2.06-2.06.94z\"/><path d=\"M17.41 7.96l-1.37-1.37c-.4-.4-.92-.59-1.43-.59-.52 0-1.04.2-1.43.59L10.3 9.45l-7.72 7.72c-.78.78-.78 2.05 0 2.83L4 21.41c.39.39.9.59 1.41.59.51 0 1.02-.2 1.41-.59l7.78-7.78 2.81-2.81c.8-.78.8-2.07 0-2.86zM5.41 20L4 18.59l7.72-7.72 1.47 1.35L5.41 20z\"/>\n",
              "  </svg>\n",
              "      </button>\n",
              "      \n",
              "  <style>\n",
              "    .colab-df-container {\n",
              "      display:flex;\n",
              "      flex-wrap:wrap;\n",
              "      gap: 12px;\n",
              "    }\n",
              "\n",
              "    .colab-df-convert {\n",
              "      background-color: #E8F0FE;\n",
              "      border: none;\n",
              "      border-radius: 50%;\n",
              "      cursor: pointer;\n",
              "      display: none;\n",
              "      fill: #1967D2;\n",
              "      height: 32px;\n",
              "      padding: 0 0 0 0;\n",
              "      width: 32px;\n",
              "    }\n",
              "\n",
              "    .colab-df-convert:hover {\n",
              "      background-color: #E2EBFA;\n",
              "      box-shadow: 0px 1px 2px rgba(60, 64, 67, 0.3), 0px 1px 3px 1px rgba(60, 64, 67, 0.15);\n",
              "      fill: #174EA6;\n",
              "    }\n",
              "\n",
              "    [theme=dark] .colab-df-convert {\n",
              "      background-color: #3B4455;\n",
              "      fill: #D2E3FC;\n",
              "    }\n",
              "\n",
              "    [theme=dark] .colab-df-convert:hover {\n",
              "      background-color: #434B5C;\n",
              "      box-shadow: 0px 1px 3px 1px rgba(0, 0, 0, 0.15);\n",
              "      filter: drop-shadow(0px 1px 2px rgba(0, 0, 0, 0.3));\n",
              "      fill: #FFFFFF;\n",
              "    }\n",
              "  </style>\n",
              "\n",
              "      <script>\n",
              "        const buttonEl =\n",
              "          document.querySelector('#df-71a986bb-6079-4a8c-bd3a-bd43dc7e0307 button.colab-df-convert');\n",
              "        buttonEl.style.display =\n",
              "          google.colab.kernel.accessAllowed ? 'block' : 'none';\n",
              "\n",
              "        async function convertToInteractive(key) {\n",
              "          const element = document.querySelector('#df-71a986bb-6079-4a8c-bd3a-bd43dc7e0307');\n",
              "          const dataTable =\n",
              "            await google.colab.kernel.invokeFunction('convertToInteractive',\n",
              "                                                     [key], {});\n",
              "          if (!dataTable) return;\n",
              "\n",
              "          const docLinkHtml = 'Like what you see? Visit the ' +\n",
              "            '<a target=\"_blank\" href=https://colab.research.google.com/notebooks/data_table.ipynb>data table notebook</a>'\n",
              "            + ' to learn more about interactive tables.';\n",
              "          element.innerHTML = '';\n",
              "          dataTable['output_type'] = 'display_data';\n",
              "          await google.colab.output.renderOutput(dataTable, element);\n",
              "          const docLink = document.createElement('div');\n",
              "          docLink.innerHTML = docLinkHtml;\n",
              "          element.appendChild(docLink);\n",
              "        }\n",
              "      </script>\n",
              "    </div>\n",
              "  </div>\n",
              "  "
            ]
          },
          "metadata": {},
          "execution_count": 6
        }
      ]
    },
    {
      "cell_type": "code",
      "metadata": {
        "id": "kcMVKjrrCd5m",
        "outputId": "543bc6ae-eea1-4a5c-a7f6-aae068def414",
        "colab": {
          "base_uri": "https://localhost:8080/"
        }
      },
      "source": [
        "df.dtypes"
      ],
      "execution_count": null,
      "outputs": [
        {
          "output_type": "execute_result",
          "data": {
            "text/plain": [
              "name                           object\n",
              "light_years_from_earth        float64\n",
              "planet_mass                    object\n",
              "stellar_magnitude             float64\n",
              "discovery_date                  int64\n",
              "planet_type                    object\n",
              "planet_radius                  object\n",
              "orbital_radius                 object\n",
              "orbital_period                 object\n",
              "eccentricity                   object\n",
              "solar_system_name              object\n",
              "planet_discovery_method        object\n",
              "planet_orbital_inclination    float64\n",
              "planet_density                float64\n",
              "right_ascension                object\n",
              "declination                    object\n",
              "host_temperature              float64\n",
              "host_mass                     float64\n",
              "host_radius                   float64\n",
              "dtype: object"
            ]
          },
          "metadata": {},
          "execution_count": 8
        }
      ]
    },
    {
      "cell_type": "code",
      "metadata": {
        "id": "PW3zSc5fCd5p",
        "colab": {
          "base_uri": "https://localhost:8080/",
          "height": 502
        },
        "outputId": "7cb0de5a-5983-4c17-ad3f-a4a882d0ecf4"
      },
      "source": [
        "df['Radius']=df['Radius'].apply(lambda x: x.replace('$', '').replace(',', '')).astype('float')"
      ],
      "execution_count": null,
      "outputs": [
        {
          "output_type": "error",
          "ename": "KeyError",
          "evalue": "ignored",
          "traceback": [
            "\u001b[0;31m---------------------------------------------------------------------------\u001b[0m",
            "\u001b[0;31mKeyError\u001b[0m                                  Traceback (most recent call last)",
            "\u001b[0;32m/usr/local/lib/python3.7/dist-packages/pandas/core/indexes/base.py\u001b[0m in \u001b[0;36mget_loc\u001b[0;34m(self, key, method, tolerance)\u001b[0m\n\u001b[1;32m   3360\u001b[0m             \u001b[0;32mtry\u001b[0m\u001b[0;34m:\u001b[0m\u001b[0;34m\u001b[0m\u001b[0;34m\u001b[0m\u001b[0m\n\u001b[0;32m-> 3361\u001b[0;31m                 \u001b[0;32mreturn\u001b[0m \u001b[0mself\u001b[0m\u001b[0;34m.\u001b[0m\u001b[0m_engine\u001b[0m\u001b[0;34m.\u001b[0m\u001b[0mget_loc\u001b[0m\u001b[0;34m(\u001b[0m\u001b[0mcasted_key\u001b[0m\u001b[0;34m)\u001b[0m\u001b[0;34m\u001b[0m\u001b[0;34m\u001b[0m\u001b[0m\n\u001b[0m\u001b[1;32m   3362\u001b[0m             \u001b[0;32mexcept\u001b[0m \u001b[0mKeyError\u001b[0m \u001b[0;32mas\u001b[0m \u001b[0merr\u001b[0m\u001b[0;34m:\u001b[0m\u001b[0;34m\u001b[0m\u001b[0;34m\u001b[0m\u001b[0m\n",
            "\u001b[0;32m/usr/local/lib/python3.7/dist-packages/pandas/_libs/index.pyx\u001b[0m in \u001b[0;36mpandas._libs.index.IndexEngine.get_loc\u001b[0;34m()\u001b[0m\n",
            "\u001b[0;32m/usr/local/lib/python3.7/dist-packages/pandas/_libs/index.pyx\u001b[0m in \u001b[0;36mpandas._libs.index.IndexEngine.get_loc\u001b[0;34m()\u001b[0m\n",
            "\u001b[0;32mpandas/_libs/hashtable_class_helper.pxi\u001b[0m in \u001b[0;36mpandas._libs.hashtable.PyObjectHashTable.get_item\u001b[0;34m()\u001b[0m\n",
            "\u001b[0;32mpandas/_libs/hashtable_class_helper.pxi\u001b[0m in \u001b[0;36mpandas._libs.hashtable.PyObjectHashTable.get_item\u001b[0;34m()\u001b[0m\n",
            "\u001b[0;31mKeyError\u001b[0m: 'Radius'",
            "\nThe above exception was the direct cause of the following exception:\n",
            "\u001b[0;31mKeyError\u001b[0m                                  Traceback (most recent call last)",
            "\u001b[0;32m<ipython-input-9-9b653c26b4c5>\u001b[0m in \u001b[0;36m<module>\u001b[0;34m()\u001b[0m\n\u001b[0;32m----> 1\u001b[0;31m \u001b[0mdf\u001b[0m\u001b[0;34m[\u001b[0m\u001b[0;34m'Radius'\u001b[0m\u001b[0;34m]\u001b[0m\u001b[0;34m=\u001b[0m\u001b[0mdf\u001b[0m\u001b[0;34m[\u001b[0m\u001b[0;34m'Radius'\u001b[0m\u001b[0;34m]\u001b[0m\u001b[0;34m.\u001b[0m\u001b[0mapply\u001b[0m\u001b[0;34m(\u001b[0m\u001b[0;32mlambda\u001b[0m \u001b[0mx\u001b[0m\u001b[0;34m:\u001b[0m \u001b[0mx\u001b[0m\u001b[0;34m.\u001b[0m\u001b[0mreplace\u001b[0m\u001b[0;34m(\u001b[0m\u001b[0;34m'$'\u001b[0m\u001b[0;34m,\u001b[0m \u001b[0;34m''\u001b[0m\u001b[0;34m)\u001b[0m\u001b[0;34m.\u001b[0m\u001b[0mreplace\u001b[0m\u001b[0;34m(\u001b[0m\u001b[0;34m','\u001b[0m\u001b[0;34m,\u001b[0m \u001b[0;34m''\u001b[0m\u001b[0;34m)\u001b[0m\u001b[0;34m)\u001b[0m\u001b[0;34m.\u001b[0m\u001b[0mastype\u001b[0m\u001b[0;34m(\u001b[0m\u001b[0;34m'float'\u001b[0m\u001b[0;34m)\u001b[0m\u001b[0;34m\u001b[0m\u001b[0;34m\u001b[0m\u001b[0m\n\u001b[0m",
            "\u001b[0;32m/usr/local/lib/python3.7/dist-packages/pandas/core/frame.py\u001b[0m in \u001b[0;36m__getitem__\u001b[0;34m(self, key)\u001b[0m\n\u001b[1;32m   3456\u001b[0m             \u001b[0;32mif\u001b[0m \u001b[0mself\u001b[0m\u001b[0;34m.\u001b[0m\u001b[0mcolumns\u001b[0m\u001b[0;34m.\u001b[0m\u001b[0mnlevels\u001b[0m \u001b[0;34m>\u001b[0m \u001b[0;36m1\u001b[0m\u001b[0;34m:\u001b[0m\u001b[0;34m\u001b[0m\u001b[0;34m\u001b[0m\u001b[0m\n\u001b[1;32m   3457\u001b[0m                 \u001b[0;32mreturn\u001b[0m \u001b[0mself\u001b[0m\u001b[0;34m.\u001b[0m\u001b[0m_getitem_multilevel\u001b[0m\u001b[0;34m(\u001b[0m\u001b[0mkey\u001b[0m\u001b[0;34m)\u001b[0m\u001b[0;34m\u001b[0m\u001b[0;34m\u001b[0m\u001b[0m\n\u001b[0;32m-> 3458\u001b[0;31m             \u001b[0mindexer\u001b[0m \u001b[0;34m=\u001b[0m \u001b[0mself\u001b[0m\u001b[0;34m.\u001b[0m\u001b[0mcolumns\u001b[0m\u001b[0;34m.\u001b[0m\u001b[0mget_loc\u001b[0m\u001b[0;34m(\u001b[0m\u001b[0mkey\u001b[0m\u001b[0;34m)\u001b[0m\u001b[0;34m\u001b[0m\u001b[0;34m\u001b[0m\u001b[0m\n\u001b[0m\u001b[1;32m   3459\u001b[0m             \u001b[0;32mif\u001b[0m \u001b[0mis_integer\u001b[0m\u001b[0;34m(\u001b[0m\u001b[0mindexer\u001b[0m\u001b[0;34m)\u001b[0m\u001b[0;34m:\u001b[0m\u001b[0;34m\u001b[0m\u001b[0;34m\u001b[0m\u001b[0m\n\u001b[1;32m   3460\u001b[0m                 \u001b[0mindexer\u001b[0m \u001b[0;34m=\u001b[0m \u001b[0;34m[\u001b[0m\u001b[0mindexer\u001b[0m\u001b[0;34m]\u001b[0m\u001b[0;34m\u001b[0m\u001b[0;34m\u001b[0m\u001b[0m\n",
            "\u001b[0;32m/usr/local/lib/python3.7/dist-packages/pandas/core/indexes/base.py\u001b[0m in \u001b[0;36mget_loc\u001b[0;34m(self, key, method, tolerance)\u001b[0m\n\u001b[1;32m   3361\u001b[0m                 \u001b[0;32mreturn\u001b[0m \u001b[0mself\u001b[0m\u001b[0;34m.\u001b[0m\u001b[0m_engine\u001b[0m\u001b[0;34m.\u001b[0m\u001b[0mget_loc\u001b[0m\u001b[0;34m(\u001b[0m\u001b[0mcasted_key\u001b[0m\u001b[0;34m)\u001b[0m\u001b[0;34m\u001b[0m\u001b[0;34m\u001b[0m\u001b[0m\n\u001b[1;32m   3362\u001b[0m             \u001b[0;32mexcept\u001b[0m \u001b[0mKeyError\u001b[0m \u001b[0;32mas\u001b[0m \u001b[0merr\u001b[0m\u001b[0;34m:\u001b[0m\u001b[0;34m\u001b[0m\u001b[0;34m\u001b[0m\u001b[0m\n\u001b[0;32m-> 3363\u001b[0;31m                 \u001b[0;32mraise\u001b[0m \u001b[0mKeyError\u001b[0m\u001b[0;34m(\u001b[0m\u001b[0mkey\u001b[0m\u001b[0;34m)\u001b[0m \u001b[0;32mfrom\u001b[0m \u001b[0merr\u001b[0m\u001b[0;34m\u001b[0m\u001b[0;34m\u001b[0m\u001b[0m\n\u001b[0m\u001b[1;32m   3364\u001b[0m \u001b[0;34m\u001b[0m\u001b[0m\n\u001b[1;32m   3365\u001b[0m         \u001b[0;32mif\u001b[0m \u001b[0mis_scalar\u001b[0m\u001b[0;34m(\u001b[0m\u001b[0mkey\u001b[0m\u001b[0;34m)\u001b[0m \u001b[0;32mand\u001b[0m \u001b[0misna\u001b[0m\u001b[0;34m(\u001b[0m\u001b[0mkey\u001b[0m\u001b[0;34m)\u001b[0m \u001b[0;32mand\u001b[0m \u001b[0;32mnot\u001b[0m \u001b[0mself\u001b[0m\u001b[0;34m.\u001b[0m\u001b[0mhasnans\u001b[0m\u001b[0;34m:\u001b[0m\u001b[0;34m\u001b[0m\u001b[0;34m\u001b[0m\u001b[0m\n",
            "\u001b[0;31mKeyError\u001b[0m: 'Radius'"
          ]
        }
      ]
    },
    {
      "cell_type": "code",
      "metadata": {
        "id": "yzWi-mJjCd5s",
        "colab": {
          "base_uri": "https://localhost:8080/",
          "height": 235
        },
        "outputId": "994a41b0-06e5-4584-f122-af773d0e0de3"
      },
      "source": [
        "radius = df['Radius'].to_list()\n",
        "mass = df['Mass'].to_list()\n",
        "gravity =[]\n",
        "\n",
        "#converting solar mass and radius into km & kg\n",
        "def convert_to_si(radius,mass):\n",
        "    for i in range(0,len(radius)-1):\n",
        "        radius[i] = radius[i]*6.957e+8\n",
        "        mass[i] = mass[i]*1.989e+30\n",
        "        \n",
        "convert_to_si(radius,mass)\n"
      ],
      "execution_count": null,
      "outputs": [
        {
          "output_type": "error",
          "ename": "NameError",
          "evalue": "ignored",
          "traceback": [
            "\u001b[0;31m---------------------------------------------------------------------------\u001b[0m",
            "\u001b[0;31mNameError\u001b[0m                                 Traceback (most recent call last)",
            "\u001b[0;32m<ipython-input-1-e2c95b5471b2>\u001b[0m in \u001b[0;36m<module>\u001b[0;34m()\u001b[0m\n\u001b[0;32m----> 1\u001b[0;31m \u001b[0mradius\u001b[0m \u001b[0;34m=\u001b[0m \u001b[0mdf\u001b[0m\u001b[0;34m[\u001b[0m\u001b[0;34m'Radius'\u001b[0m\u001b[0;34m]\u001b[0m\u001b[0;34m.\u001b[0m\u001b[0mto_list\u001b[0m\u001b[0;34m(\u001b[0m\u001b[0;34m)\u001b[0m\u001b[0;34m\u001b[0m\u001b[0;34m\u001b[0m\u001b[0m\n\u001b[0m\u001b[1;32m      2\u001b[0m \u001b[0mmass\u001b[0m \u001b[0;34m=\u001b[0m \u001b[0mdf\u001b[0m\u001b[0;34m[\u001b[0m\u001b[0;34m'Mass'\u001b[0m\u001b[0;34m]\u001b[0m\u001b[0;34m.\u001b[0m\u001b[0mto_list\u001b[0m\u001b[0;34m(\u001b[0m\u001b[0;34m)\u001b[0m\u001b[0;34m\u001b[0m\u001b[0;34m\u001b[0m\u001b[0m\n\u001b[1;32m      3\u001b[0m \u001b[0mgravity\u001b[0m \u001b[0;34m=\u001b[0m\u001b[0;34m[\u001b[0m\u001b[0;34m]\u001b[0m\u001b[0;34m\u001b[0m\u001b[0;34m\u001b[0m\u001b[0m\n\u001b[1;32m      4\u001b[0m \u001b[0;34m\u001b[0m\u001b[0m\n\u001b[1;32m      5\u001b[0m \u001b[0;31m#converting solar mass and radius into km & kg\u001b[0m\u001b[0;34m\u001b[0m\u001b[0;34m\u001b[0m\u001b[0;34m\u001b[0m\u001b[0m\n",
            "\u001b[0;31mNameError\u001b[0m: name 'df' is not defined"
          ]
        }
      ]
    },
    {
      "cell_type": "code",
      "source": [
        "import csv\n",
        "\n",
        "rows = []\n",
        "\n",
        "with open(\"final.csv\", \"r\") as f:\n",
        "  csvreader = csv.reader(f)\n",
        "  for row in csvreader: \n",
        "    rows.append(row)\n",
        "\n",
        "headers = rows[0]\n",
        "planet_data_rows = rows[1:]\n",
        "print(headers)\n",
        "print(planet_data_rows[0])"
      ],
      "metadata": {
        "colab": {
          "base_uri": "https://localhost:8080/"
        },
        "id": "J-tQ2kTOkIcb",
        "outputId": "02400f3b-47dd-4cf7-dc51-54c70405c60e"
      },
      "execution_count": null,
      "outputs": [
        {
          "output_type": "stream",
          "name": "stdout",
          "text": [
            "['name', 'light_years_from_earth', 'planet_mass', 'stellar_magnitude', 'discovery_date', 'hyperlink', 'planet_type', 'discovery_date', 'planet_mass', 'planet_radius', 'orbital_radius', 'orbital_period', 'eccentricity']\n",
            "['11 Comae Berenices b', '305', '19.4 Jupiters', '4.74', '2007', 'https://exoplanets.nasa.gov/exoplanet-catalog/6988/11-comae-berenices-b/', 'Gas Giant', '2007', '19.4 Jupiters', '1.08 x Jupiter', '1.29 AU', '326 days', '0.23']\n"
          ]
        }
      ]
    },
    {
      "cell_type": "code",
      "source": [
        "headers[0] = \"row_num\"\n",
        "\n",
        "solar_system_planet_count = {}\n",
        "for planet_data in planet_data_rows:\n",
        "  if solar_system_planet_count.get(planet_data[11]):\n",
        "    solar_system_planet_count[planet_data[11]] += 1\n",
        "  else:\n",
        "    solar_system_planet_count[planet_data[11]] = 1"
      ],
      "metadata": {
        "id": "OkEaiV4xkP6a"
      },
      "execution_count": null,
      "outputs": []
    },
    {
      "cell_type": "code",
      "metadata": {
        "id": "oh4RTOJLCd5u",
        "outputId": "8871ec15-2d70-4bea-c64b-19704f2430a9"
      },
      "source": [
        "def gravity_calculation(radius,mass):\n",
        "    G = 6.674e-11\n",
        "    for index in range(0,len(mass)):\n",
        "        g= (mass[index]*G)/((radius[index])**2)\n",
        "        gravity.append(g)\n",
        "        \n",
        "gravity_calculation(radius,mass)\n",
        "\n",
        "df[\"Gravity\"] = gravity\n",
        "df"
      ],
      "execution_count": null,
      "outputs": [
        {
          "output_type": "execute_result",
          "data": {
            "text/html": [
              "<div>\n",
              "<style scoped>\n",
              "    .dataframe tbody tr th:only-of-type {\n",
              "        vertical-align: middle;\n",
              "    }\n",
              "\n",
              "    .dataframe tbody tr th {\n",
              "        vertical-align: top;\n",
              "    }\n",
              "\n",
              "    .dataframe thead th {\n",
              "        text-align: right;\n",
              "    }\n",
              "</style>\n",
              "<table border=\"1\" class=\"dataframe\">\n",
              "  <thead>\n",
              "    <tr style=\"text-align: right;\">\n",
              "      <th></th>\n",
              "      <th>Star_name</th>\n",
              "      <th>Distance</th>\n",
              "      <th>Mass</th>\n",
              "      <th>Radius</th>\n",
              "      <th>Gravity</th>\n",
              "    </tr>\n",
              "  </thead>\n",
              "  <tbody>\n",
              "    <tr>\n",
              "      <td>0</td>\n",
              "      <td>Sun</td>\n",
              "      <td>0.000016</td>\n",
              "      <td>1.000000</td>\n",
              "      <td>1.000000</td>\n",
              "      <td>2.742692e+02</td>\n",
              "    </tr>\n",
              "    <tr>\n",
              "      <td>1</td>\n",
              "      <td>Sirius</td>\n",
              "      <td>8.600000</td>\n",
              "      <td>2.100000</td>\n",
              "      <td>1.710000</td>\n",
              "      <td>1.969718e+02</td>\n",
              "    </tr>\n",
              "    <tr>\n",
              "      <td>2</td>\n",
              "      <td>Canopus</td>\n",
              "      <td>310.000000</td>\n",
              "      <td>15.000000</td>\n",
              "      <td>71.000000</td>\n",
              "      <td>8.161153e-01</td>\n",
              "    </tr>\n",
              "    <tr>\n",
              "      <td>3</td>\n",
              "      <td>Alpha Centauri</td>\n",
              "      <td>4.400000</td>\n",
              "      <td>1.100000</td>\n",
              "      <td>1.200000</td>\n",
              "      <td>2.095112e+02</td>\n",
              "    </tr>\n",
              "    <tr>\n",
              "      <td>4</td>\n",
              "      <td>Arcturus</td>\n",
              "      <td>37.000000</td>\n",
              "      <td>1.100000</td>\n",
              "      <td>26.000000</td>\n",
              "      <td>4.462960e-01</td>\n",
              "    </tr>\n",
              "    <tr>\n",
              "      <td>...</td>\n",
              "      <td>...</td>\n",
              "      <td>...</td>\n",
              "      <td>...</td>\n",
              "      <td>...</td>\n",
              "      <td>...</td>\n",
              "    </tr>\n",
              "    <tr>\n",
              "      <td>248</td>\n",
              "      <td>2MASSI J2356547-155310</td>\n",
              "      <td>74.000000</td>\n",
              "      <td>0.076367</td>\n",
              "      <td>0.112012</td>\n",
              "      <td>1.669385e+03</td>\n",
              "    </tr>\n",
              "    <tr>\n",
              "      <td>249</td>\n",
              "      <td>WISE 0410+1502</td>\n",
              "      <td>20.000000</td>\n",
              "      <td>0.005728</td>\n",
              "      <td>0.120233</td>\n",
              "      <td>1.086673e+02</td>\n",
              "    </tr>\n",
              "    <tr>\n",
              "      <td>250</td>\n",
              "      <td>WISE 0458+6434A</td>\n",
              "      <td>35.900000</td>\n",
              "      <td>0.014319</td>\n",
              "      <td>0.431605</td>\n",
              "      <td>2.108201e+01</td>\n",
              "    </tr>\n",
              "    <tr>\n",
              "      <td>251</td>\n",
              "      <td>WISE 0458+6434B</td>\n",
              "      <td>35.900000</td>\n",
              "      <td>0.009546</td>\n",
              "      <td>0.390499</td>\n",
              "      <td>1.716928e+01</td>\n",
              "    </tr>\n",
              "    <tr>\n",
              "      <td>252</td>\n",
              "      <td>WISE 1405+5534</td>\n",
              "      <td>25.300000</td>\n",
              "      <td>0.028638</td>\n",
              "      <td>0.088376</td>\n",
              "      <td>2.447107e-10</td>\n",
              "    </tr>\n",
              "  </tbody>\n",
              "</table>\n",
              "<p>253 rows × 5 columns</p>\n",
              "</div>"
            ],
            "text/plain": [
              "                  Star_name    Distance       Mass     Radius       Gravity\n",
              "0                       Sun    0.000016   1.000000   1.000000  2.742692e+02\n",
              "1                    Sirius    8.600000   2.100000   1.710000  1.969718e+02\n",
              "2                   Canopus  310.000000  15.000000  71.000000  8.161153e-01\n",
              "3            Alpha Centauri    4.400000   1.100000   1.200000  2.095112e+02\n",
              "4                  Arcturus   37.000000   1.100000  26.000000  4.462960e-01\n",
              "..                      ...         ...        ...        ...           ...\n",
              "248  2MASSI J2356547-155310   74.000000   0.076367   0.112012  1.669385e+03\n",
              "249          WISE 0410+1502   20.000000   0.005728   0.120233  1.086673e+02\n",
              "250         WISE 0458+6434A   35.900000   0.014319   0.431605  2.108201e+01\n",
              "251         WISE 0458+6434B   35.900000   0.009546   0.390499  1.716928e+01\n",
              "252          WISE 1405+5534   25.300000   0.028638   0.088376  2.447107e-10\n",
              "\n",
              "[253 rows x 5 columns]"
            ]
          },
          "metadata": {
            "tags": []
          },
          "execution_count": 22
        }
      ]
    },
    {
      "cell_type": "code",
      "metadata": {
        "id": "OKr8Eps2Cd5x"
      },
      "source": [
        "#df['Distance']=df['Distance'].apply(lambda x: x.replace('$', '').replace(',', '')).astype('float')\n",
        "df.to_csv(\"star_with_gravity.csv\")"
      ],
      "execution_count": null,
      "outputs": []
    },
    {
      "cell_type": "code",
      "metadata": {
        "id": "U0AxH6AaCd50",
        "outputId": "61b86057-242b-4d7e-957e-ecb48c693e10"
      },
      "source": [
        "df.dtypes"
      ],
      "execution_count": null,
      "outputs": [
        {
          "output_type": "execute_result",
          "data": {
            "text/plain": [
              "Star_name     object\n",
              "Distance     float64\n",
              "Mass         float64\n",
              "Radius       float64\n",
              "Gravity      float64\n",
              "dtype: object"
            ]
          },
          "metadata": {
            "tags": []
          },
          "execution_count": 25
        }
      ]
    },
    {
      "cell_type": "code",
      "metadata": {
        "id": "oCM3uLU8Cd53",
        "colab": {
          "base_uri": "https://localhost:8080/",
          "height": 235
        },
        "outputId": "676d4d1d-029f-4700-8150-dc5d258fb1bb"
      },
      "source": [
        "temp_planet_data_rows = list(planet_data_rows)\n",
        "for planet_data in temp_planet_data_rows:\n",
        "  planet_mass = planet_data[3]\n",
        "  if planet_mass.lower() == \"unknown\":\n",
        "    planet_data_rows.remove(planet_data)\n",
        "    continue\n",
        "  else:\n",
        "    planet_mass_value = planet_mass.split(\" \")[0]\n",
        "    planet_mass_ref = planet_mass.split(\" \")[1]\n",
        "    if planet_mass_ref == \"Jupiters\":\n",
        "      planet_mass_value = float(planet_mass_value) * 317.8\n",
        "    planet_data[3] = planet_mass_value\n",
        "\n",
        "  planet_radius = planet_data[7]\n",
        "  if planet_radius.lower() == \"unknown\":\n",
        "    planet_data_rows.remove(planet_data)\n",
        "    continue\n",
        "  else:\n",
        "    planet_radius_value = planet_radius.split(\" \")[0]\n",
        "    planet_radius_ref = planet_radius.split(\" \")[2]\n",
        "    if planet_radius_ref == \"Jupiter\":\n",
        "      planet_radius_value = float(planet_radius_value) * 11.2\n",
        "    planet_data[7] = planet_radius_value\n",
        "\n",
        "print(len(planet_data_rows))\n",
        "\n",
        "hd_10180_planets = []\n",
        "for planet_data in planet_data_rows:\n",
        "  if max_solar_system == planet_data[11]:\n",
        "    hd_10180_planets.append(planet_data)\n",
        "\n",
        "print(len(hd_10180_planets))\n",
        "print(hd_10180_planets)"
      ],
      "execution_count": null,
      "outputs": [
        {
          "output_type": "error",
          "ename": "IndexError",
          "evalue": "ignored",
          "traceback": [
            "\u001b[0;31m---------------------------------------------------------------------------\u001b[0m",
            "\u001b[0;31mIndexError\u001b[0m                                Traceback (most recent call last)",
            "\u001b[0;32m<ipython-input-8-673fe445417e>\u001b[0m in \u001b[0;36m<module>\u001b[0;34m()\u001b[0m\n\u001b[1;32m      7\u001b[0m   \u001b[0;32melse\u001b[0m\u001b[0;34m:\u001b[0m\u001b[0;34m\u001b[0m\u001b[0;34m\u001b[0m\u001b[0m\n\u001b[1;32m      8\u001b[0m     \u001b[0mplanet_mass_value\u001b[0m \u001b[0;34m=\u001b[0m \u001b[0mplanet_mass\u001b[0m\u001b[0;34m.\u001b[0m\u001b[0msplit\u001b[0m\u001b[0;34m(\u001b[0m\u001b[0;34m\" \"\u001b[0m\u001b[0;34m)\u001b[0m\u001b[0;34m[\u001b[0m\u001b[0;36m0\u001b[0m\u001b[0;34m]\u001b[0m\u001b[0;34m\u001b[0m\u001b[0;34m\u001b[0m\u001b[0m\n\u001b[0;32m----> 9\u001b[0;31m     \u001b[0mplanet_mass_ref\u001b[0m \u001b[0;34m=\u001b[0m \u001b[0mplanet_mass\u001b[0m\u001b[0;34m.\u001b[0m\u001b[0msplit\u001b[0m\u001b[0;34m(\u001b[0m\u001b[0;34m\" \"\u001b[0m\u001b[0;34m)\u001b[0m\u001b[0;34m[\u001b[0m\u001b[0;36m1\u001b[0m\u001b[0;34m]\u001b[0m\u001b[0;34m\u001b[0m\u001b[0;34m\u001b[0m\u001b[0m\n\u001b[0m\u001b[1;32m     10\u001b[0m     \u001b[0;32mif\u001b[0m \u001b[0mplanet_mass_ref\u001b[0m \u001b[0;34m==\u001b[0m \u001b[0;34m\"Jupiters\"\u001b[0m\u001b[0;34m:\u001b[0m\u001b[0;34m\u001b[0m\u001b[0;34m\u001b[0m\u001b[0m\n\u001b[1;32m     11\u001b[0m       \u001b[0mplanet_mass_value\u001b[0m \u001b[0;34m=\u001b[0m \u001b[0mfloat\u001b[0m\u001b[0;34m(\u001b[0m\u001b[0mplanet_mass_value\u001b[0m\u001b[0;34m)\u001b[0m \u001b[0;34m*\u001b[0m \u001b[0;36m317.8\u001b[0m\u001b[0;34m\u001b[0m\u001b[0;34m\u001b[0m\u001b[0m\n",
            "\u001b[0;31mIndexError\u001b[0m: list index out of range"
          ]
        }
      ]
    },
    {
      "cell_type": "code",
      "source": [
        "planet_type_values = []\n",
        "for planet_data in planet_data_rows:\n",
        "  planet_type_values.append(planet_data[6])\n",
        "\n",
        "print(list(set(planet_type_values)))"
      ],
      "metadata": {
        "colab": {
          "base_uri": "https://localhost:8080/"
        },
        "id": "purzHV0ZlxNy",
        "outputId": "7cc34a11-a762-4678-a3b0-b46a4a122ea0"
      },
      "execution_count": null,
      "outputs": [
        {
          "output_type": "stream",
          "name": "stdout",
          "text": [
            "['Unknown', 'Neptune-like', 'Terrestrial', 'Super Earth', 'Gas Giant']\n"
          ]
        }
      ]
    },
    {
      "cell_type": "code",
      "source": [
        "planet_masses = []\n",
        "planet_radiuses = []\n",
        "for planet_data in low_gravity_planets:\n",
        "  planet_masses.append(planet_data[3])\n",
        "  planet_radiuses.append(planet_data[7])\n",
        "\n",
        "fig = px.scatter(x=planet_radiuses, y=planet_masses)\n",
        "fig.show()"
      ],
      "metadata": {
        "id": "Fxy7RmxVmp7C"
      },
      "execution_count": null,
      "outputs": []
    },
    {
      "cell_type": "code",
      "source": [
        "from sklearn.cluster import KMeans\n",
        "import matplotlib.pyplot as plt\n",
        "import seaborn as sns\n",
        "\n",
        "X = []\n",
        "for index, planet_mass in enumerate(planet_masses):\n",
        "  temp_list = [\n",
        "                  planet_radiuses[index],\n",
        "                  planet_mass\n",
        "              ]\n",
        "  X.append(temp_list)\n",
        "\n",
        "wcss = []\n",
        "for i in range(1, 11):\n",
        "    kmeans = KMeans(n_clusters=i, init='k-means++', random_state = 42)\n",
        "    kmeans.fit(X)\n",
        "    # inertia method returns wcss for that model\n",
        "    wcss.append(kmeans.inertia_)\n",
        "\n",
        "plt.figure(figsize=(10,5))\n",
        "sns.lineplot(range(1, 11), wcss, marker='o', color='red')\n",
        "plt.title('The Elbow Method')\n",
        "plt.xlabel('Number of clusters')\n",
        "plt.ylabel('WCSS')\n",
        "plt.show()"
      ],
      "metadata": {
        "id": "VQRcauB6nL_X",
        "outputId": "063c4f62-9dcf-4cc5-8a0e-25654848a647",
        "colab": {
          "base_uri": "https://localhost:8080/",
          "height": 235
        }
      },
      "execution_count": null,
      "outputs": [
        {
          "output_type": "error",
          "ename": "NameError",
          "evalue": "ignored",
          "traceback": [
            "\u001b[0;31m---------------------------------------------------------------------------\u001b[0m",
            "\u001b[0;31mNameError\u001b[0m                                 Traceback (most recent call last)",
            "\u001b[0;32m<ipython-input-10-bce9f90c23f2>\u001b[0m in \u001b[0;36m<module>\u001b[0;34m()\u001b[0m\n\u001b[1;32m      4\u001b[0m \u001b[0;34m\u001b[0m\u001b[0m\n\u001b[1;32m      5\u001b[0m \u001b[0mX\u001b[0m \u001b[0;34m=\u001b[0m \u001b[0;34m[\u001b[0m\u001b[0;34m]\u001b[0m\u001b[0;34m\u001b[0m\u001b[0;34m\u001b[0m\u001b[0m\n\u001b[0;32m----> 6\u001b[0;31m \u001b[0;32mfor\u001b[0m \u001b[0mindex\u001b[0m\u001b[0;34m,\u001b[0m \u001b[0mplanet_mass\u001b[0m \u001b[0;32min\u001b[0m \u001b[0menumerate\u001b[0m\u001b[0;34m(\u001b[0m\u001b[0mplanet_masses\u001b[0m\u001b[0;34m)\u001b[0m\u001b[0;34m:\u001b[0m\u001b[0;34m\u001b[0m\u001b[0;34m\u001b[0m\u001b[0m\n\u001b[0m\u001b[1;32m      7\u001b[0m   temp_list = [\n\u001b[1;32m      8\u001b[0m                   \u001b[0mplanet_radiuses\u001b[0m\u001b[0;34m[\u001b[0m\u001b[0mindex\u001b[0m\u001b[0;34m]\u001b[0m\u001b[0;34m,\u001b[0m\u001b[0;34m\u001b[0m\u001b[0;34m\u001b[0m\u001b[0m\n",
            "\u001b[0;31mNameError\u001b[0m: name 'planet_masses' is not defined"
          ]
        }
      ]
    },
    {
      "cell_type": "code",
      "source": [
        "low_gravity_planets = []\n",
        "for index, gravity in enumerate(planet_gravity):\n",
        "  if gravity < 10:\n",
        "    low_gravity_planets.append(planet_data_rows[index])\n",
        "\n",
        "print(len(low_gravity_planets))"
      ],
      "metadata": {
        "id": "kB0ltn8Wdmqj"
      },
      "execution_count": null,
      "outputs": []
    },
    {
      "cell_type": "code",
      "source": [
        "low_gravity_planets = []\n",
        "for index, gravity in enumerate(planet_gravity):\n",
        "  if gravity < 100:\n",
        "    low_gravity_planets.append(planet_data_rows[index])\n",
        "\n",
        "print(len(low_gravity_planets))"
      ],
      "metadata": {
        "id": "JUARdiTndrJe"
      },
      "execution_count": null,
      "outputs": []
    },
    {
      "cell_type": "code",
      "source": [
        "planet_masses = []\n",
        "planet_radiuses = []\n",
        "for planet_data in low_gravity_planets:\n",
        "  planet_masses.append(planet_data[3])\n",
        "  planet_radiuses.append(planet_data[7])\n",
        "\n",
        "fig = px.scatter(x=planet_radiuses, y=planet_masses)\n",
        "fig.show()"
      ],
      "metadata": {
        "colab": {
          "base_uri": "https://localhost:8080/",
          "height": 235
        },
        "id": "3-pd9iageVUQ",
        "outputId": "3b194528-bc36-4693-f256-77b590c88f2a"
      },
      "execution_count": null,
      "outputs": [
        {
          "output_type": "error",
          "ename": "NameError",
          "evalue": "ignored",
          "traceback": [
            "\u001b[0;31m---------------------------------------------------------------------------\u001b[0m",
            "\u001b[0;31mNameError\u001b[0m                                 Traceback (most recent call last)",
            "\u001b[0;32m<ipython-input-1-1db0521eae70>\u001b[0m in \u001b[0;36m<module>\u001b[0;34m()\u001b[0m\n\u001b[1;32m      1\u001b[0m \u001b[0mplanet_masses\u001b[0m \u001b[0;34m=\u001b[0m \u001b[0;34m[\u001b[0m\u001b[0;34m]\u001b[0m\u001b[0;34m\u001b[0m\u001b[0;34m\u001b[0m\u001b[0m\n\u001b[1;32m      2\u001b[0m \u001b[0mplanet_radiuses\u001b[0m \u001b[0;34m=\u001b[0m \u001b[0;34m[\u001b[0m\u001b[0;34m]\u001b[0m\u001b[0;34m\u001b[0m\u001b[0;34m\u001b[0m\u001b[0m\n\u001b[0;32m----> 3\u001b[0;31m \u001b[0;32mfor\u001b[0m \u001b[0mplanet_data\u001b[0m \u001b[0;32min\u001b[0m \u001b[0mlow_gravity_planets\u001b[0m\u001b[0;34m:\u001b[0m\u001b[0;34m\u001b[0m\u001b[0;34m\u001b[0m\u001b[0m\n\u001b[0m\u001b[1;32m      4\u001b[0m   \u001b[0mplanet_masses\u001b[0m\u001b[0;34m.\u001b[0m\u001b[0mappend\u001b[0m\u001b[0;34m(\u001b[0m\u001b[0mplanet_data\u001b[0m\u001b[0;34m[\u001b[0m\u001b[0;36m3\u001b[0m\u001b[0;34m]\u001b[0m\u001b[0;34m)\u001b[0m\u001b[0;34m\u001b[0m\u001b[0;34m\u001b[0m\u001b[0m\n\u001b[1;32m      5\u001b[0m   \u001b[0mplanet_radiuses\u001b[0m\u001b[0;34m.\u001b[0m\u001b[0mappend\u001b[0m\u001b[0;34m(\u001b[0m\u001b[0mplanet_data\u001b[0m\u001b[0;34m[\u001b[0m\u001b[0;36m7\u001b[0m\u001b[0;34m]\u001b[0m\u001b[0;34m)\u001b[0m\u001b[0;34m\u001b[0m\u001b[0;34m\u001b[0m\u001b[0m\n",
            "\u001b[0;31mNameError\u001b[0m: name 'low_gravity_planets' is not defined"
          ]
        }
      ]
    },
    {
      "cell_type": "code",
      "source": [
        "from sklearn.cluster import KMeans\n",
        "import matplotlib.pyplot as plt\n",
        "import seaborn as sns\n",
        "\n",
        "X = []\n",
        "for index, planet_mass in enumerate(planet_masses):\n",
        "  temp_list = [\n",
        "                  planet_radiuses[index],\n",
        "                  planet_mass\n",
        "              ]\n",
        "  X.append(temp_list)\n",
        "\n",
        "wcss = []\n",
        "for i in range(1, 11):\n",
        "    kmeans = KMeans(n_clusters=i, init='k-means++', random_state = 42)\n",
        "    kmeans.fit(X)\n",
        "    # inertia method returns wcss for that model\n",
        "    wcss.append(kmeans.inertia_)\n",
        "\n",
        "plt.figure(figsize=(10,5))\n",
        "sns.lineplot(range(1, 11), wcss, marker='o', color='red')\n",
        "plt.title('The Elbow Method')\n",
        "plt.xlabel('Number of clusters')\n",
        "plt.ylabel('WCSS')\n",
        "plt.show()"
      ],
      "metadata": {
        "id": "af46sEVyf7Wc"
      },
      "execution_count": null,
      "outputs": []
    },
    {
      "cell_type": "code",
      "source": [
        "planet_masses = []\n",
        "planet_radiuses = []\n",
        "planet_types = []\n",
        "for planet_data in low_gravity_planets:\n",
        "  planet_masses.append(planet_data[3])\n",
        "  planet_radiuses.append(planet_data[7])\n",
        "  planet_types.append(planet_data[6])\n",
        "\n",
        "fig = px.scatter(x=planet_radiuses, y=planet_masses, color=planet_types)\n",
        "fig.show()"
      ],
      "metadata": {
        "id": "LhQ5xS2WgB81"
      },
      "execution_count": null,
      "outputs": []
    },
    {
      "cell_type": "code",
      "source": [
        "suitable_planets = []\n",
        "for planet_data in low_gravity_planets:\n",
        "  if planet_data[6].lower() == \"terrestrial\" or planet_data[6].lower() == \"super earth\":\n",
        "    suitable_planets.append(planet_data)\n",
        "\n",
        "print(len(suitable_planets))"
      ],
      "metadata": {
        "id": "Yz2KHmzlgL5N"
      },
      "execution_count": null,
      "outputs": []
    },
    {
      "cell_type": "code",
      "source": [
        "temp_suitable_planets = list(suitable_planets)\n",
        "for planet_data in temp_suitable_planets:\n",
        "  if planet_data[8].lower() == \"unknown\":\n",
        "    suitable_planets.remove(planet_data)\n",
        "\n",
        "for planet_data in suitable_planets:\n",
        "  if planet_data[9].split(\" \")[1].lower() == \"days\":\n",
        "    planet_data[9] = float(planet_data[9].split(\" \")[0]) #Days\n",
        "  else:\n",
        "    planet_data[9] = float(planet_data[9].split(\" \")[0])*365 #Years\n",
        "  planet_data[8] = float(planet_data[8].split(\" \")[0])\n",
        "\n",
        "orbital_radiuses = []\n",
        "orbital_periods = []\n",
        "for planet_data in suitable_planets:\n",
        "  orbital_radiuses.append(planet_data[8])\n",
        "  orbital_periods.append(planet_data[9])\n",
        "\n",
        "fig = px.scatter(x=orbital_radiuses, y=orbital_periods)\n",
        "fig.show()"
      ],
      "metadata": {
        "id": "BZP01404giD6"
      },
      "execution_count": null,
      "outputs": []
    },
    {
      "cell_type": "code",
      "source": [
        "goldilock_planets = list(suitable_planets) #We will leave suitable planet list as it is\n",
        "\n",
        "temp_goldilock_planets = list(suitable_planets) \n",
        "for planet_data in temp_goldilock_planets:\n",
        "  if planet_data[8] < 0.38 or planet_data[8] > 2:\n",
        "    goldilock_planets.remove(planet_data)\n",
        "\n",
        "print(len(suitable_planets))\n",
        "print(len(goldilock_planets))"
      ],
      "metadata": {
        "id": "jDafU4NChHsa"
      },
      "execution_count": null,
      "outputs": []
    },
    {
      "cell_type": "code",
      "source": [
        "planet_speeds = []\n",
        "for planet_data in suitable_planets:\n",
        "  distance = 2 * 3.14 * (planet_data[8] * 1.496e+9)\n",
        "  time = planet_data[9] * 86400\n",
        "  speed = distance / time\n",
        "  planet_speeds.append(speed)\n",
        "\n",
        "speed_supporting_planets = list(suitable_planets) #We will leave suitable planet list as it is\n",
        "\n",
        "temp_speed_supporting_planets = list(suitable_planets)\n",
        "for index, planet_data in enumerate(temp_speed_supporting_planets):\n",
        "  if planet_speeds[index] > 200:\n",
        "    speed_supporting_planets.remove(planet_data)\n",
        "\n",
        "print(len(speed_supporting_planets))"
      ],
      "metadata": {
        "colab": {
          "base_uri": "https://localhost:8080/",
          "height": 235
        },
        "id": "S-fiJsWRhIaw",
        "outputId": "10b7e4e3-62ff-4100-e4d0-dbfbd4ff69f0"
      },
      "execution_count": null,
      "outputs": [
        {
          "output_type": "error",
          "ename": "NameError",
          "evalue": "ignored",
          "traceback": [
            "\u001b[0;31m---------------------------------------------------------------------------\u001b[0m",
            "\u001b[0;31mNameError\u001b[0m                                 Traceback (most recent call last)",
            "\u001b[0;32m<ipython-input-2-ca126aaae42d>\u001b[0m in \u001b[0;36m<module>\u001b[0;34m()\u001b[0m\n\u001b[1;32m      1\u001b[0m \u001b[0mplanet_speeds\u001b[0m \u001b[0;34m=\u001b[0m \u001b[0;34m[\u001b[0m\u001b[0;34m]\u001b[0m\u001b[0;34m\u001b[0m\u001b[0;34m\u001b[0m\u001b[0m\n\u001b[0;32m----> 2\u001b[0;31m \u001b[0;32mfor\u001b[0m \u001b[0mplanet_data\u001b[0m \u001b[0;32min\u001b[0m \u001b[0msuitable_planets\u001b[0m\u001b[0;34m:\u001b[0m\u001b[0;34m\u001b[0m\u001b[0;34m\u001b[0m\u001b[0m\n\u001b[0m\u001b[1;32m      3\u001b[0m   \u001b[0mdistance\u001b[0m \u001b[0;34m=\u001b[0m \u001b[0;36m2\u001b[0m \u001b[0;34m*\u001b[0m \u001b[0;36m3.14\u001b[0m \u001b[0;34m*\u001b[0m \u001b[0;34m(\u001b[0m\u001b[0mplanet_data\u001b[0m\u001b[0;34m[\u001b[0m\u001b[0;36m8\u001b[0m\u001b[0;34m]\u001b[0m \u001b[0;34m*\u001b[0m \u001b[0;36m1.496e+9\u001b[0m\u001b[0;34m)\u001b[0m\u001b[0;34m\u001b[0m\u001b[0;34m\u001b[0m\u001b[0m\n\u001b[1;32m      4\u001b[0m   \u001b[0mtime\u001b[0m \u001b[0;34m=\u001b[0m \u001b[0mplanet_data\u001b[0m\u001b[0;34m[\u001b[0m\u001b[0;36m9\u001b[0m\u001b[0;34m]\u001b[0m \u001b[0;34m*\u001b[0m \u001b[0;36m86400\u001b[0m\u001b[0;34m\u001b[0m\u001b[0;34m\u001b[0m\u001b[0m\n\u001b[1;32m      5\u001b[0m   \u001b[0mspeed\u001b[0m \u001b[0;34m=\u001b[0m \u001b[0mdistance\u001b[0m \u001b[0;34m/\u001b[0m \u001b[0mtime\u001b[0m\u001b[0;34m\u001b[0m\u001b[0;34m\u001b[0m\u001b[0m\n",
            "\u001b[0;31mNameError\u001b[0m: name 'suitable_planets' is not defined"
          ]
        }
      ]
    },
    {
      "cell_type": "code",
      "source": [
        "habitable_planets = []\n",
        "for planet in speed_supporting_planets:\n",
        "  if planet in goldilock_planets:\n",
        "    habitable_planets.append(planet)\n",
        "\n",
        "print(len(habitable_planets))"
      ],
      "metadata": {
        "id": "mTYqyjWJVVqQ"
      },
      "execution_count": null,
      "outputs": []
    },
    {
      "cell_type": "code",
      "source": [
        "final_dict = {}\n",
        "\n",
        "for index, planet_data in enumerate(planet_data_rows):\n",
        "  features_list = []\n",
        "  gravity = (float(planet_data[3])*5.972e+24) / (float(planet_data[7])*float(planet_data[7])*6371000*6371000) * 6.674e-11\n",
        "  try:\n",
        "    if gravity < 100:\n",
        "      features_list.append(\"gravity\")\n",
        "  except: pass\n",
        "  try:\n",
        "    if planet_data[6].lower() == \"terrestrial\" or planet_data[6].lower() == \"super earth\":\n",
        "      features_list.append(\"planet_type\")\n",
        "  except: pass\n",
        "  try:\n",
        "    if planet_data[8] > 0.38 or planet_data[8] < 2:\n",
        "      features_list.append(\"goldilock\")\n",
        "  except: pass\n",
        "  try:\n",
        "    distance = 2 * 3.14 * (planet_data[8] * 1.496e+9)\n",
        "    time = planet_data[9] * 86400\n",
        "    speed = distance / time\n",
        "    if speed < 200:\n",
        "      features_list.append(\"speed\")\n",
        "  except: pass\n",
        "  final_dict[index] = features_list\n",
        "\n",
        "print(final_dict)"
      ],
      "metadata": {
        "id": "KXIChhI5Vb76"
      },
      "execution_count": null,
      "outputs": []
    },
    {
      "cell_type": "code",
      "source": [
        "goldilock_planet_count = 0\n",
        "for key, value in final_dict.items():\n",
        "  if \"goldilock\" in value:\n",
        "    goldilock_planet_count += 1\n",
        "\n",
        "print(goldilock_planet_count)"
      ],
      "metadata": {
        "id": "kLHEHMMXVc8d"
      },
      "execution_count": null,
      "outputs": []
    },
    {
      "cell_type": "code",
      "source": [
        "speed_planet_count = 0\n",
        "for key, value in final_dict.items():\n",
        "  if \"speed\" in value:\n",
        "    speed_planet_count += 1\n",
        "\n",
        "print(speed_planet_count)"
      ],
      "metadata": {
        "id": "zX0VU8iQVl20"
      },
      "execution_count": null,
      "outputs": []
    },
    {
      "cell_type": "code",
      "source": [
        "distance_planet_count = 0\n",
        "for key, value in final_dict.items():\n",
        "  if \"distance\" == < 150 && > 300 in value:\n",
        "    distance_planet_count += 1\n",
        "\n",
        "print(distance_planet_count)"
      ],
      "metadata": {
        "colab": {
          "base_uri": "https://localhost:8080/",
          "height": 131
        },
        "id": "NNY2wsAQWCTF",
        "outputId": "1d766fe7-57a5-4c69-f046-428f0115bb7c"
      },
      "execution_count": null,
      "outputs": [
        {
          "output_type": "error",
          "ename": "SyntaxError",
          "evalue": "ignored",
          "traceback": [
            "\u001b[0;36m  File \u001b[0;32m\"<ipython-input-10-098cafe298a3>\"\u001b[0;36m, line \u001b[0;32m3\u001b[0m\n\u001b[0;31m    if \"distance\" == < 150 && > 300 in value:\u001b[0m\n\u001b[0m                     ^\u001b[0m\n\u001b[0;31mSyntaxError\u001b[0m\u001b[0;31m:\u001b[0m invalid syntax\n"
          ]
        }
      ]
    },
    {
      "cell_type": "code",
      "source": [
        "print(planet_data_rows[0])"
      ],
      "metadata": {
        "id": "OxarookSY864"
      },
      "execution_count": null,
      "outputs": []
    },
    {
      "cell_type": "code",
      "source": [
        "final_dict = {}\n",
        "\n",
        "headers.append(\"gravity\")\n",
        "headers.append(\"orbital_speed\")\n",
        "\n",
        "for index, planet_data in enumerate(planet_data_rows):\n",
        "  features_list = []\n",
        "  gravity = (float(planet_data[3])*5.972e+24) / (float(planet_data[7])*float(planet_data[7])*6371000*6371000) * 6.674e-11\n",
        "  try:\n",
        "    if gravity < 100:\n",
        "      features_list.append(\"gravity\")\n",
        "    planet_data.append(gravity)\n",
        "  except: planet_data.append(\"Unknown\")\n",
        "  try:\n",
        "    if planet_data[6].lower() == \"terrestrial\" or planet_data[6].lower() == \"super earth\":\n",
        "      features_list.append(\"planet_type\")\n",
        "  except: pass\n",
        "  try:\n",
        "    if float(planet_data[8].split(\" \")[0]) > 0.38 and float(planet_data[8].split(\" \")[0]) < 2:\n",
        "      features_list.append(\"goldilock\")\n",
        "  except: \n",
        "    try:\n",
        "      if planet_data[8] > 0.38 and planet_data[8] < 2:\n",
        "        features_list.append(\"goldilock\")\n",
        "    except: pass\n",
        "  try:\n",
        "    try:\n",
        "      distance = 2 * 3.14 * (float(planet_data[8].split(\" \")[0]) * 1.496e+9)\n",
        "    except:\n",
        "      try:\n",
        "        distance = 2 * 3.14 * (float(planet_data[8]) * 1.496e+9)\n",
        "      except: pass\n",
        "    try:\n",
        "      time, unit = planet_data[9].split(\" \")[0], planet_data[9].split(\" \")[1]\n",
        "      if unit.lower() == \"days\":\n",
        "        time = float(time)\n",
        "      else:\n",
        "        time = float(time) * 365\n",
        "    except:\n",
        "      time = planet_data[9]\n",
        "    time = time * 86400\n",
        "    speed = distance / time\n",
        "    if speed < 200:\n",
        "      features_list.append(\"speed\")\n",
        "    planet_data.append(speed)\n",
        "  except: planet_data.append(\"Unknown\")\n",
        "  final_dict[planet_data[1]] = features_list\n",
        "\n",
        "print(final_dict)"
      ],
      "metadata": {
        "id": "BgevpNpdY-Fc"
      },
      "execution_count": null,
      "outputs": []
    },
    {
      "cell_type": "code",
      "source": [
        "goldilock_planet_count = 0\n",
        "for key, value in final_dict.items():\n",
        "  if \"goldilock\" in value:\n",
        "    goldilock_planet_count += 1\n",
        "\n",
        "print(goldilock_planet_count)"
      ],
      "metadata": {
        "id": "wjyXtWGUZRhe"
      },
      "execution_count": null,
      "outputs": []
    },
    {
      "cell_type": "code",
      "source": [
        "goldilock_gravity_type_count = 0\n",
        "for key, value in final_dict.items():\n",
        "  if \"goldilock\" in value and \"planet_type\" in value and \"gravity\" in value:\n",
        "    goldilock_gravity_type_count += 1\n",
        "\n",
        "print(goldilock_gravity_type_count)"
      ],
      "metadata": {
        "id": "ocLXPf-hZWXD"
      },
      "execution_count": null,
      "outputs": []
    },
    {
      "cell_type": "code",
      "source": [
        "speed_planet_count = 0\n",
        "for key, value in final_dict.items():\n",
        "  if \"speed\" in value:\n",
        "    speed_planet_count += 1\n",
        "\n",
        "print(speed_planet_count)"
      ],
      "metadata": {
        "id": "eG6pf8E2ZYx_"
      },
      "execution_count": null,
      "outputs": []
    },
    {
      "cell_type": "code",
      "source": [
        "speed_goldilock_gravity_type_count = 0\n",
        "for key, value in final_dict.items():\n",
        "  if \"goldilock\" in value and \"planet_type\" in value and \"gravity\" in value and \"speed\" in value:\n",
        "    speed_goldilock_gravity_type_count += 1\n",
        "\n",
        "print(speed_goldilock_gravity_type_count)"
      ],
      "metadata": {
        "id": "7lzPQcZSZb0r"
      },
      "execution_count": null,
      "outputs": []
    },
    {
      "cell_type": "code",
      "source": [
        "print(headers)\n",
        "print(planet_data_rows[0])"
      ],
      "metadata": {
        "id": "cfvLg2cKZfZc"
      },
      "execution_count": null,
      "outputs": []
    },
    {
      "cell_type": "code",
      "source": [
        "for planet_data in planet_data_rows:\n",
        "  temp_dict = {\n",
        "                  \"name\": planet_data[1],\n",
        "                  \"distance_from_earth\": planet_data[2],\n",
        "                  \"planet_mass\": planet_data[3],\n",
        "                  \"planet_type\": planet_data[6],\n",
        "                  \"planet_radius\": planet_data[7],\n",
        "                  \"distance_from_their_sun\": planet_data[8],\n",
        "                  \"orbital_period\": planet_data[9],\n",
        "                  \"gravity\": planet_data[20],\n",
        "                  \"orbital_speed\": planet_data[21]\n",
        "              }\n",
        "  temp_dict[\"specifications\"] = final_dict[planet_data[1]]\n",
        "  final_planet_list.append(temp_dict)\n",
        "\n",
        "print(final_planet_list)"
      ],
      "metadata": {
        "id": "Co8rgeZwcKff"
      },
      "execution_count": null,
      "outputs": []
    }
  ]
}